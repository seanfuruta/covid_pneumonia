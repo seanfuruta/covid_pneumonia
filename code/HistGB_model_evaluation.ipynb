{
 "cells": [
  {
   "cell_type": "code",
   "execution_count": 39,
   "metadata": {},
   "outputs": [],
   "source": [
    "import os\n",
    "\n",
    "import project_lib as plib\n",
    "import importlib\n",
    "import numpy as np\n",
    "\n",
    "from sklearn.model_selection import train_test_split\n",
    "from sklearn.model_selection import cross_val_score\n",
    "from sklearn.model_selection import RepeatedStratifiedKFold\n",
    "from sklearn.ensemble import HistGradientBoostingClassifier\n",
    "\n",
    "from sklearn.metrics import confusion_matrix, accuracy_score, roc_auc_score\n",
    "from sklearn.metrics import classification_report\n",
    "\n",
    "from mlxtend.plotting import plot_confusion_matrix\n",
    "import matplotlib.pyplot as plt\n",
    "\n",
    "from IPython.display import Image"
   ]
  },
  {
   "cell_type": "code",
   "execution_count": 28,
   "metadata": {},
   "outputs": [
    {
     "data": {
      "text/plain": [
       "<module 'project_lib' from '/home/rakesh/Desktop/w281/w281-cv-final-project/code/project_lib.py'>"
      ]
     },
     "execution_count": 28,
     "metadata": {},
     "output_type": "execute_result"
    }
   ],
   "source": [
    "importlib.reload(plib)"
   ]
  },
  {
   "cell_type": "code",
   "execution_count": 18,
   "metadata": {},
   "outputs": [],
   "source": [
    "def fit_gboost_ensemble_model(X, y):\n",
    "    model = HistGradientBoostingClassifier(max_bins=255, max_iter=100)\n",
    "    # define the evaluation procedure\n",
    "    cv = RepeatedStratifiedKFold(n_splits=10, n_repeats=3, random_state=1)\n",
    "    # evaluate the model and collect the scores\n",
    "    n_scores = cross_val_score(model, X, y, scoring='accuracy', cv=cv, n_jobs=-1)\n",
    "    # report performance\n",
    "    print('Accuracy: %.3f (%.3f)' % (np.mean(n_scores), np.std(n_scores)))\n",
    "\n",
    "    return n_scores\n",
    "\n",
    "def get_roc_auc_scores(y, pred_y):\n",
    "    false_positive_rate, true_positive_rate, thresholds = roc_curve(y, pred_y)\n",
    "    roc_auc = auc(false_positive_rate, true_positive_rate)\n",
    "\n",
    "    return roc_auc"
   ]
  },
  {
   "cell_type": "code",
   "execution_count": 4,
   "metadata": {},
   "outputs": [
    {
     "name": "stdout",
     "output_type": "stream",
     "text": [
      "Accuracy: 0.618 (0.047)\n"
     ]
    }
   ],
   "source": [
    "####\n",
    "##\n",
    "#  Use Validation set to test working model\n",
    "\n",
    "data_X = []\n",
    "data_Y = []\n",
    "\n",
    "with open(plib.val_data_file, 'rb') as f:\n",
    "    data_X = np.load(f, allow_pickle=True)\n",
    "    data_Y = np.load(f, allow_pickle=True)\n",
    "\n",
    "n_scores = fit_gboost_ensemble_model(data_X, data_Y)"
   ]
  },
  {
   "cell_type": "code",
   "execution_count": 5,
   "metadata": {},
   "outputs": [
    {
     "name": "stdout",
     "output_type": "stream",
     "text": [
      "Accuracy: 0.671 (0.008)\n"
     ]
    }
   ],
   "source": [
    "data_X = []\n",
    "data_Y = []\n",
    "\n",
    "with open(plib.data_file, 'rb') as f:\n",
    "    data_X = np.load(f, allow_pickle=True)\n",
    "    data_Y = np.load(f, allow_pickle=True)\n",
    "\n",
    "fit_gboost_ensemble_model(data_X, data_Y)"
   ]
  },
  {
   "cell_type": "code",
   "execution_count": 40,
   "metadata": {},
   "outputs": [
    {
     "name": "stdout",
     "output_type": "stream",
     "text": [
      "==================== Training Report\n",
      "              precision    recall  f1-score   support\n",
      "\n",
      "      Normal       0.91      0.93      0.92      5165\n",
      "    COVID-19       0.92      0.93      0.92      5721\n",
      "   Non-COVID       0.94      0.90      0.92      5400\n",
      "\n",
      "    accuracy                           0.92     16286\n",
      "   macro avg       0.92      0.92      0.92     16286\n",
      "weighted avg       0.92      0.92      0.92     16286\n",
      "\n",
      "==================== Test Report\n",
      "              precision    recall  f1-score   support\n",
      "\n",
      "      Normal       0.66      0.74      0.70      1325\n",
      "    COVID-19       0.65      0.66      0.66      1539\n",
      "   Non-COVID       0.69      0.61      0.65      1479\n",
      "\n",
      "    accuracy                           0.67      4343\n",
      "   macro avg       0.67      0.67      0.67      4343\n",
      "weighted avg       0.67      0.67      0.67      4343\n",
      "\n"
     ]
    },
    {
     "data": {
      "image/png": "[encoded data removed]",
      "text/plain": [
       "<Figure size 432x432 with 1 Axes>"
      ]
     },
     "metadata": {
      "needs_background": "light"
     },
     "output_type": "display_data"
    }
   ],
   "source": [
    "with open(plib.train_data_file, 'rb') as f:\n",
    "    train_X = np.load(f, allow_pickle=True)\n",
    "    train_Y = np.load(f, allow_pickle=True)\n",
    "\n",
    "with open(plib.test_data_file, 'rb') as f:\n",
    "    test_X = np.load(f, allow_pickle=True)\n",
    "    test_Y = np.load(f, allow_pickle=True)\n",
    "\n",
    "model = HistGradientBoostingClassifier(max_bins=255, max_iter=100)\n",
    "\n",
    "model.fit(train_X, train_Y)\n",
    "\n",
    "train_pred_y = model.predict(train_X)\n",
    "test_pred_y = model.predict(test_X)\n",
    "\n",
    "print(\"==================== Training Report\")\n",
    "print(classification_report(train_Y, train_pred_y, target_names=list(plib.classes.keys())))\n",
    "print(\"==================== Test Report\")\n",
    "print(classification_report(test_Y, test_pred_y, target_names=list(plib.classes.keys())))\n",
    "\n",
    "cm_hgb = confusion_matrix(test_Y, test_pred_y)\n",
    "\n",
    "fig, ax = plot_confusion_matrix(conf_mat=cm_hgb, figsize=(6, 6), cmap=plt.cm.Greens, class_names=list(plib.classes.keys()))\n",
    "plt.xlabel('Predictions', fontsize=18)\n",
    "plt.ylabel('Actuals', fontsize=18)\n",
    "plt.title('Confusion Matrix', fontsize=18)\n",
    "plt.show()"
   ]
  },
  {
   "cell_type": "markdown",
   "metadata": {},
   "source": [
    "### Hyperparameter Tuning"
   ]
  },
  {
   "cell_type": "code",
   "execution_count": 25,
   "metadata": {},
   "outputs": [],
   "source": [
    "from sklearn.model_selection import GridSearchCV"
   ]
  },
  {
   "cell_type": "code",
   "execution_count": 34,
   "metadata": {},
   "outputs": [
    {
     "name": "stdout",
     "output_type": "stream",
     "text": [
      "Best Accuracy of HGB: 66.79 %\n",
      "Best Parameter of HGB: {'l2_regularization': 0.1, 'learning_rate': 0.1, 'max_depth': 25, 'max_iter': 250, 'scoring': 'f1_micro'}\n",
      "CPU times: user 7min 31s, sys: 20.3 s, total: 7min 51s\n",
      "Wall time: 55min 2s\n"
     ]
    }
   ],
   "source": [
    "%%time\n",
    "\n",
    "hparam_grid = [{'max_iter': [100, 250, 500,1000],\n",
    "                'learning_rate': [0.001, 0.01, 0.1],\n",
    "                'max_depth' : [25, 50, 75, 100],\n",
    "                'l2_regularization': [0.0001, 0.001, 0.01, 0.1]}]\n",
    "\n",
    "grid_search_hgb = GridSearchCV(estimator = HistGradientBoostingClassifier(),\n",
    "                           param_grid = hparam_grid,\n",
    "                           scoring = 'accuracy',\n",
    "                           cv = 10,\n",
    "                           n_jobs = -1)\n",
    "\n",
    "grid_search_hgb.fit(train_X, train_Y)\n",
    "best_accuracy_hgb = grid_search_hgb.best_score_\n",
    "best_paramaeter_hgb = grid_search_hgb.best_params_\n",
    "\n",
    "print(\"Best Accuracy of HGB: {:.2f} %\".format(best_accuracy_hgb.mean()*100))\n",
    "print(\"Best Parameter of HGB:\", best_paramaeter_hgb)                            "
   ]
  },
  {
   "cell_type": "code",
   "execution_count": 36,
   "metadata": {},
   "outputs": [
    {
     "name": "stdout",
     "output_type": "stream",
     "text": [
      "Best Accuracy of HGB: 67.04 %\n",
      "Best Parameter of HGB: {'max_bins': 255, 'max_leaf_nodes': 100, 'min_samples_leaf': 100}\n",
      "CPU times: user 2min 34s, sys: 6.58 s, total: 2min 40s\n",
      "Wall time: 20min 26s\n"
     ]
    }
   ],
   "source": [
    "%%time\n",
    "\n",
    "hparam_grid = [{'max_leaf_nodes': [10, 25, 50, 100],\n",
    "                'min_samples_leaf': [10, 20, 50, 100],\n",
    "                'max_bins' : [20, 50, 100, 255]}]\n",
    "\n",
    "grid_search_hgb = GridSearchCV(estimator = HistGradientBoostingClassifier(max_iter=250, learning_rate=0.1, max_depth=25, l2_regularization=0.1),\n",
    "                           param_grid = hparam_grid,\n",
    "                           scoring = 'accuracy',\n",
    "                           cv = 10,\n",
    "                           n_jobs = -1)\n",
    "\n",
    "grid_search_hgb.fit(train_X, train_Y)\n",
    "best_accuracy_hgb = grid_search_hgb.best_score_\n",
    "best_paramaeter_hgb = grid_search_hgb.best_params_\n",
    "\n",
    "print(\"Best Accuracy of HGB: {:.2f} %\".format(best_accuracy_hgb.mean()*100))\n",
    "print(\"Best Parameter of HGB:\", best_paramaeter_hgb)                            "
   ]
  },
  {
   "cell_type": "markdown",
   "metadata": {},
   "source": [
    "### Final Classifier configuration after Hyperparameter tuning"
   ]
  },
  {
   "cell_type": "code",
   "execution_count": 38,
   "metadata": {},
   "outputs": [
    {
     "name": "stdout",
     "output_type": "stream",
     "text": [
      "==================== Training Report\n",
      "              precision    recall  f1-score   support\n",
      "\n",
      "      Normal       0.97      0.98      0.97      5165\n",
      "    COVID-19       0.96      0.97      0.96      5721\n",
      "   Non-COVID       0.97      0.96      0.97      5400\n",
      "\n",
      "    accuracy                           0.97     16286\n",
      "   macro avg       0.97      0.97      0.97     16286\n",
      "weighted avg       0.97      0.97      0.97     16286\n",
      "\n",
      "==================== Test Report\n",
      "              precision    recall  f1-score   support\n",
      "\n",
      "      Normal       0.66      0.74      0.70      1325\n",
      "    COVID-19       0.65      0.66      0.66      1539\n",
      "   Non-COVID       0.69      0.61      0.65      1479\n",
      "\n",
      "    accuracy                           0.67      4343\n",
      "   macro avg       0.67      0.67      0.67      4343\n",
      "weighted avg       0.67      0.67      0.67      4343\n",
      "\n"
     ]
    },
    {
     "data": {
      "image/png": "[encoded data removed]",
      "text/plain": [
       "<Figure size 432x432 with 1 Axes>"
      ]
     },
     "metadata": {
      "needs_background": "light"
     },
     "output_type": "display_data"
    }
   ],
   "source": [
    "with open(plib.train_data_file, 'rb') as f:\n",
    "    train_X = np.load(f, allow_pickle=True)\n",
    "    train_Y = np.load(f, allow_pickle=True)\n",
    "\n",
    "with open(plib.test_data_file, 'rb') as f:\n",
    "    test_X = np.load(f, allow_pickle=True)\n",
    "    test_Y = np.load(f, allow_pickle=True)\n",
    "\n",
    "model = HistGradientBoostingClassifier(max_iter=250, learning_rate=0.1, max_depth=25, l2_regularization=0.1, max_bins=255, max_leaf_nodes=100, min_samples_leaf=100)\n",
    "\n",
    "model.fit(train_X, train_Y)\n",
    "\n",
    "train_pred_y = model.predict(train_X)\n",
    "test_pred_y = model.predict(test_X)\n",
    "\n",
    "print(\"==================== Training Report\")\n",
    "print(classification_report(train_Y, train_pred_y, target_names=list(plib.classes.keys())))\n",
    "print(\"==================== Test Report\")\n",
    "print(classification_report(test_Y, test_pred_y, target_names=list(plib.classes.keys())))\n",
    "\n",
    "cm_hgb = confusion_matrix(test_Y, test_pred_y)\n",
    "\n",
    "fig, ax = plot_confusion_matrix(conf_mat=cm_hgb, figsize=(6, 6), cmap=plt.cm.Greens, class_names=list(plib.classes.keys()))\n",
    "plt.xlabel('Predictions', fontsize=18)\n",
    "plt.ylabel('Actuals', fontsize=18)\n",
    "plt.title('Confusion Matrix', fontsize=18)\n",
    "plt.show()"
   ]
  },
  {
   "cell_type": "code",
   "execution_count": null,
   "metadata": {},
   "outputs": [],
   "source": []
  }
 ],
 "metadata": {
  "kernelspec": {
   "display_name": "Python 3.9.13 ('jl3')",
   "language": "python",
   "name": "python3"
  },
  "language_info": {
   "codemirror_mode": {
    "name": "ipython",
    "version": 3
   },
   "file_extension": ".py",
   "mimetype": "text/x-python",
   "name": "python",
   "nbconvert_exporter": "python",
   "pygments_lexer": "ipython3",
   "version": "3.9.13"
  },
  "orig_nbformat": 4,
  "vscode": {
   "interpreter": {
    "hash": "1142bdc9547781596c0e52ff3d9bfaf5ff7b1c12bbbaf696caed8a1305e93c19"
   }
  }
 },
 "nbformat": 4,
 "nbformat_minor": 2
}
