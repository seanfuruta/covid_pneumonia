{
 "cells": [
  {
   "cell_type": "markdown",
   "id": "36a29e5a-c9c2-469c-8e8e-068b29806bce",
   "metadata": {},
   "source": [
    "# Train Non Linear SVM Models"
   ]
  },
  {
   "cell_type": "code",
   "execution_count": 6,
   "id": "60912b19-ec86-47b5-9031-0491f4ae0c83",
   "metadata": {},
   "outputs": [],
   "source": [
    "import project_lib as plib\n",
    "import importlib\n",
    "import numpy as np\n",
    "import os"
   ]
  },
  {
   "cell_type": "code",
   "execution_count": 7,
   "id": "df44bc77-3b61-4a72-9b33-397cb9ec1e62",
   "metadata": {},
   "outputs": [
    {
     "data": {
      "text/plain": [
       "<module 'project_lib' from '/home/rakesh/Desktop/w281/w281-cv-final-project/project_lib.py'>"
      ]
     },
     "execution_count": 7,
     "metadata": {},
     "output_type": "execute_result"
    }
   ],
   "source": [
    "importlib.reload(plib)"
   ]
  },
  {
   "cell_type": "code",
   "execution_count": 9,
   "id": "b47bb9fc-fcf3-46ba-a639-17d9c616b2a4",
   "metadata": {},
   "outputs": [
    {
     "name": "stdout",
     "output_type": "stream",
     "text": [
      "16286 4343 1086\n"
     ]
    }
   ],
   "source": [
    "metadata = plib.get_metadata()\n",
    "\n",
    "train, test, val = plib.get_train_test_val_split(metadata)\n",
    "\n",
    "#train, test, val = plib.get_train_test_val_split(data)\n",
    "\n",
    "print(len(train), len(test), len(val))"
   ]
  },
  {
   "cell_type": "code",
   "execution_count": 16,
   "id": "a931e03c-bf9f-4775-b304-8fa8d61bbd18",
   "metadata": {},
   "outputs": [
    {
     "name": "stdout",
     "output_type": "stream",
     "text": [
      "CPU times: user 0 ns, sys: 3.13 ms, total: 3.13 ms\n",
      "Wall time: 2.7 ms\n"
     ]
    },
    {
     "data": {
      "text/plain": [
       "<module 'project_lib' from '/home/rakesh/Desktop/w281/w281-cv-final-project/project_lib.py'>"
      ]
     },
     "execution_count": 16,
     "metadata": {},
     "output_type": "execute_result"
    }
   ],
   "source": [
    "#train_X, train_y = plib.get_X_y_for_training(train)\n",
    "#test_X, test_y = plib.get_X_y_for_training(test)\n",
    "#val_X, val_y = plib.get_X_y_for_training(val)"
   ]
  },
  {
   "cell_type": "code",
   "execution_count": 21,
   "id": "74846719",
   "metadata": {},
   "outputs": [
    {
     "name": "stdout",
     "output_type": "stream",
     "text": [
      "Cleaning file,  ./val_data.npy\n",
      "CPU times: user 12min 24s, sys: 3min 6s, total: 15min 30s\n",
      "Wall time: 3min 4s\n"
     ]
    }
   ],
   "source": [
    "%%time\n",
    "\n",
    "val_X, val_y = plib.get_X_y_for_training(val, filename=plib.val_data_file)"
   ]
  },
  {
   "cell_type": "code",
   "execution_count": 23,
   "id": "8c8d15db-1546-4078-802b-949d9a884d39",
   "metadata": {},
   "outputs": [
    {
     "name": "stderr",
     "output_type": "stream",
     "text": [
      "/home/rakesh/Desktop/w281/w281-cv-final-project/project_lib.py:109: RuntimeWarning: invalid value encountered in divide\n",
      "  gray = num / den\n"
     ]
    },
    {
     "name": "stdout",
     "output_type": "stream",
     "text": [
      "Cleaning file,  ./test_data.npy\n"
     ]
    }
   ],
   "source": [
    "test_X, test_y = plib.get_X_y_for_training(test, filename=plib.test_data_file)"
   ]
  },
  {
   "cell_type": "code",
   "execution_count": 28,
   "id": "82cd05a0-4d3c-493d-9a67-146eb7aa20fd",
   "metadata": {},
   "outputs": [
    {
     "name": "stderr",
     "output_type": "stream",
     "text": [
      "/home/rakesh/Desktop/w281/w281-cv-final-project/project_lib.py:109: RuntimeWarning: invalid value encountered in divide\n",
      "  gray = num / den\n"
     ]
    },
    {
     "name": "stdout",
     "output_type": "stream",
     "text": [
      "No cleanup.. File doesn't exists\n"
     ]
    }
   ],
   "source": [
    "train_X, train_y = plib.get_X_y_for_training(train, filename=plib.train_data_file)"
   ]
  },
  {
   "cell_type": "code",
   "execution_count": 10,
   "id": "4588eda6",
   "metadata": {},
   "outputs": [
    {
     "name": "stderr",
     "output_type": "stream",
     "text": [
      "/home/rakesh/Desktop/w281/w281-cv-final-project/project_lib.py:115: RuntimeWarning: invalid value encountered in divide\n",
      "  gray = num / den\n"
     ]
    },
    {
     "name": "stdout",
     "output_type": "stream",
     "text": [
      "No cleanup.. File doesn't exists\n",
      "CPU times: user 4h 21min, sys: 1h 6min 24s, total: 5h 27min 24s\n",
      "Wall time: 1h 10min 10s\n"
     ]
    }
   ],
   "source": [
    "%%time\n",
    "\n",
    "data_X, data_y = plib.get_X_y_for_training(metadata, filename=plib.data_file)"
   ]
  },
  {
   "cell_type": "code",
   "execution_count": 11,
   "id": "50c5b818-e545-4bcb-96f8-40f08dae5d55",
   "metadata": {},
   "outputs": [
    {
     "name": "stdout",
     "output_type": "stream",
     "text": [
      "(21715, 170)\n",
      "(21715,)\n"
     ]
    }
   ],
   "source": [
    "with open(plib.data_file, 'rb') as f:\n",
    "    X = np.load(f, allow_pickle=True)\n",
    "    y = np.load(f, allow_pickle=True)\n",
    "\n",
    "    print(X.shape)\n",
    "    print(y.shape)"
   ]
  },
  {
   "cell_type": "markdown",
   "id": "f49527bf",
   "metadata": {},
   "source": [
    "## Prepare Data for CNN training"
   ]
  },
  {
   "cell_type": "markdown",
   "id": "4c1bc29e",
   "metadata": {},
   "source": [
    "metadata = pd.read_csv(plib.csv_path)\n",
    "\n",
    "imgs = plib.fetch_images(metadata)\n",
    "\n",
    "v_img_prep = np.vectorize(plib.get_preprocessed_img)\n",
    "\n",
    "img_prepped = v_img_prep(imgs)\n",
    "\n",
    "img_prepped_masked = plib.do_lung_mask_images(metadata, img_prepped)\n",
    "\n",
    "with open(plib.cnn_data_file, 'wb') as f:\n",
    "    np.save(f, img_prepped_masked)"
   ]
  },
  {
   "cell_type": "code",
   "execution_count": null,
   "id": "52f28feb",
   "metadata": {},
   "outputs": [],
   "source": []
  }
 ],
 "metadata": {
  "kernelspec": {
   "display_name": "Python 3.9.13 ('jl3')",
   "language": "python",
   "name": "python3"
  },
  "language_info": {
   "codemirror_mode": {
    "name": "ipython",
    "version": 3
   },
   "file_extension": ".py",
   "mimetype": "text/x-python",
   "name": "python",
   "nbconvert_exporter": "python",
   "pygments_lexer": "ipython3",
   "version": "3.9.13"
  },
  "vscode": {
   "interpreter": {
    "hash": "1142bdc9547781596c0e52ff3d9bfaf5ff7b1c12bbbaf696caed8a1305e93c19"
   }
  }
 },
 "nbformat": 4,
 "nbformat_minor": 5
}
