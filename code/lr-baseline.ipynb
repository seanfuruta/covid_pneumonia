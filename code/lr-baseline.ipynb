{
 "cells": [
  {
   "cell_type": "markdown",
   "id": "55e4b5a1",
   "metadata": {},
   "source": [
    "## Baseline classifier"
   ]
  },
  {
   "cell_type": "code",
   "execution_count": 1,
   "id": "eea3681e",
   "metadata": {},
   "outputs": [],
   "source": [
    "import os\n",
    "\n",
    "import project_lib as plib\n",
    "import importlib\n",
    "import numpy as np\n",
    "import pandas as pd\n",
    "\n",
    "from sklearn.model_selection import train_test_split\n",
    "from sklearn.model_selection import cross_val_score\n",
    "from sklearn.model_selection import RepeatedStratifiedKFold\n",
    "from sklearn.linear_model import LogisticRegression\n",
    "from sklearn.metrics import multilabel_confusion_matrix, precision_recall_fscore_support, roc_auc_score\n",
    "from sklearn.metrics import accuracy_score"
   ]
  },
  {
   "cell_type": "code",
   "execution_count": 2,
   "id": "12338279",
   "metadata": {},
   "outputs": [
    {
     "data": {
      "text/plain": [
       "<module 'project_lib' from '/Users/dmiller/Documents/mids/w281/w281-cv-final-project/code/project_lib.py'>"
      ]
     },
     "execution_count": 2,
     "metadata": {},
     "output_type": "execute_result"
    }
   ],
   "source": [
    "importlib.reload(plib)"
   ]
  },
  {
   "cell_type": "code",
   "execution_count": 26,
   "id": "4c55befd",
   "metadata": {},
   "outputs": [],
   "source": [
    "def fit_logistic_regression_model(X, y):\n",
    "    model = LogisticRegression(max_iter=100)\n",
    "    # drop observations with NaN values\n",
    "    X_df = pd.DataFrame(X)\n",
    "    X_new = X_df.dropna()\n",
    "    y_new = y[X_new.index]\n",
    "\n",
    "    # define the evaluation procedure\n",
    "    cv = RepeatedStratifiedKFold(n_splits=10, n_repeats=3, random_state=1)\n",
    "    # evaluate the model and collect the scores\n",
    "    n_scores = cross_val_score(model, X_new, y_new, scoring='accuracy', cv=cv, n_jobs=-1)\n",
    "    # report performance\n",
    "    print('Accuracy: %.3f (%.3f)' % (np.mean(n_scores), np.std(n_scores)))"
   ]
  },
  {
   "cell_type": "code",
   "execution_count": 27,
   "id": "c6963925",
   "metadata": {},
   "outputs": [
    {
     "name": "stdout",
     "output_type": "stream",
     "text": [
      "Accuracy: 0.543 (0.012)\n"
     ]
    }
   ],
   "source": [
    "####\n",
    "##\n",
    "#  Use full data set for cross validation\n",
    "\n",
    "data_X = []\n",
    "data_Y = []\n",
    "\n",
    "with open(plib.data_file, 'rb') as f:\n",
    "    data_X = np.load(f, allow_pickle=True)\n",
    "    data_Y = np.load(f, allow_pickle=True)\n",
    "\n",
    "fit_logistic_regression_model(data_X, data_Y)"
   ]
  },
  {
   "cell_type": "code",
   "execution_count": 28,
   "id": "f477189b",
   "metadata": {},
   "outputs": [],
   "source": [
    "# Confusion matrix\n",
    "# multilabel_confusion_matrix(y_test, y_pred)"
   ]
  },
  {
   "cell_type": "code",
   "execution_count": 30,
   "id": "52b32568",
   "metadata": {},
   "outputs": [],
   "source": [
    "# Precision, recall, fscore, support\n",
    "# precision_recall_fscore_support(y_test, y_pred)"
   ]
  },
  {
   "cell_type": "code",
   "execution_count": 31,
   "id": "b3a0d4c2",
   "metadata": {},
   "outputs": [],
   "source": [
    "# ROC-AUC score\n",
    "# roc_auc_score(y_test, lr.predict_proba(X_test), multi_class='ovo')"
   ]
  },
  {
   "cell_type": "code",
   "execution_count": null,
   "id": "383fd614",
   "metadata": {},
   "outputs": [],
   "source": []
  }
 ],
 "metadata": {
  "kernelspec": {
   "display_name": "Python 3 (ipykernel)",
   "language": "python",
   "name": "python3"
  },
  "language_info": {
   "codemirror_mode": {
    "name": "ipython",
    "version": 3
   },
   "file_extension": ".py",
   "mimetype": "text/x-python",
   "name": "python",
   "nbconvert_exporter": "python",
   "pygments_lexer": "ipython3",
   "version": "3.8.8"
  }
 },
 "nbformat": 4,
 "nbformat_minor": 5
}
